{
 "cells": [
  {
   "cell_type": "code",
   "execution_count": 1,
   "metadata": {},
   "outputs": [],
   "source": [
    "'''导入包与数据'''\n",
    "import pandas as pd\n",
    "import numpy as np\n",
    "import matplotlib.pyplot as plt"
   ]
  },
  {
   "cell_type": "code",
   "execution_count": 2,
   "metadata": {},
   "outputs": [],
   "source": [
    "bra = pd.read_csv(r\"E:\\lx\\homework\\python_work\\bra\\bra.csv\")\n",
    "bra_color = pd.read_csv(r\"E:\\lx\\homework\\python_work\\bra\\colors.csv\")"
   ]
  },
  {
   "cell_type": "code",
   "execution_count": 3,
   "metadata": {},
   "outputs": [],
   "source": [
    "'''将两个数据合并为一个数据，方便进行后续操作'''\n",
    "bra = pd.merge(bra, bra_color, left_on='productColor', right_on='0')"
   ]
  },
  {
   "cell_type": "code",
   "execution_count": 4,
   "metadata": {},
   "outputs": [
    {
     "data": {
      "text/html": [
       "<div>\n",
       "<style scoped>\n",
       "    .dataframe tbody tr th:only-of-type {\n",
       "        vertical-align: middle;\n",
       "    }\n",
       "\n",
       "    .dataframe tbody tr th {\n",
       "        vertical-align: top;\n",
       "    }\n",
       "\n",
       "    .dataframe thead th {\n",
       "        text-align: right;\n",
       "    }\n",
       "</style>\n",
       "<table border=\"1\" class=\"dataframe\">\n",
       "  <thead>\n",
       "    <tr style=\"text-align: right;\">\n",
       "      <th></th>\n",
       "      <th>creationTime</th>\n",
       "      <th>productColor</th>\n",
       "      <th>productSize</th>\n",
       "      <th>Unnamed: 0</th>\n",
       "      <th>0</th>\n",
       "      <th>1</th>\n",
       "    </tr>\n",
       "  </thead>\n",
       "  <tbody>\n",
       "    <tr>\n",
       "      <th>0</th>\n",
       "      <td>2016-06-08 17:17:00</td>\n",
       "      <td>22咖啡色</td>\n",
       "      <td>75C</td>\n",
       "      <td>0</td>\n",
       "      <td>22咖啡色</td>\n",
       "      <td>棕色</td>\n",
       "    </tr>\n",
       "    <tr>\n",
       "      <th>1</th>\n",
       "      <td>2017-04-07 19:34:25</td>\n",
       "      <td>22咖啡色</td>\n",
       "      <td>80B</td>\n",
       "      <td>0</td>\n",
       "      <td>22咖啡色</td>\n",
       "      <td>棕色</td>\n",
       "    </tr>\n",
       "    <tr>\n",
       "      <th>2</th>\n",
       "      <td>2017-08-03 20:39:18</td>\n",
       "      <td>22咖啡色</td>\n",
       "      <td>80B</td>\n",
       "      <td>0</td>\n",
       "      <td>22咖啡色</td>\n",
       "      <td>棕色</td>\n",
       "    </tr>\n",
       "    <tr>\n",
       "      <th>3</th>\n",
       "      <td>2016-07-06 14:02:08</td>\n",
       "      <td>22咖啡色</td>\n",
       "      <td>75B</td>\n",
       "      <td>0</td>\n",
       "      <td>22咖啡色</td>\n",
       "      <td>棕色</td>\n",
       "    </tr>\n",
       "    <tr>\n",
       "      <th>4</th>\n",
       "      <td>2017-03-18 11:49:55</td>\n",
       "      <td>22咖啡色</td>\n",
       "      <td>80B</td>\n",
       "      <td>0</td>\n",
       "      <td>22咖啡色</td>\n",
       "      <td>棕色</td>\n",
       "    </tr>\n",
       "    <tr>\n",
       "      <th>...</th>\n",
       "      <td>...</td>\n",
       "      <td>...</td>\n",
       "      <td>...</td>\n",
       "      <td>...</td>\n",
       "      <td>...</td>\n",
       "      <td>...</td>\n",
       "    </tr>\n",
       "    <tr>\n",
       "      <th>15492</th>\n",
       "      <td>2017-11-03 16:39:13</td>\n",
       "      <td>粉色套装（含内裤）</td>\n",
       "      <td>34A/75A</td>\n",
       "      <td>116</td>\n",
       "      <td>粉色套装（含内裤）</td>\n",
       "      <td>粉色</td>\n",
       "    </tr>\n",
       "    <tr>\n",
       "      <th>15493</th>\n",
       "      <td>2017-11-07 23:03:10</td>\n",
       "      <td>粉色套装（含内裤）</td>\n",
       "      <td>34B/75B</td>\n",
       "      <td>116</td>\n",
       "      <td>粉色套装（含内裤）</td>\n",
       "      <td>粉色</td>\n",
       "    </tr>\n",
       "    <tr>\n",
       "      <th>15494</th>\n",
       "      <td>2017-11-14 17:25:37</td>\n",
       "      <td>粉色套装（含内裤）</td>\n",
       "      <td>34A/75A</td>\n",
       "      <td>116</td>\n",
       "      <td>粉色套装（含内裤）</td>\n",
       "      <td>粉色</td>\n",
       "    </tr>\n",
       "    <tr>\n",
       "      <th>15495</th>\n",
       "      <td>2017-11-11 00:13:32</td>\n",
       "      <td>粉色套装（含内裤）</td>\n",
       "      <td>36C/80C</td>\n",
       "      <td>116</td>\n",
       "      <td>粉色套装（含内裤）</td>\n",
       "      <td>粉色</td>\n",
       "    </tr>\n",
       "    <tr>\n",
       "      <th>15496</th>\n",
       "      <td>2016-12-20 13:51:34</td>\n",
       "      <td>虾粉</td>\n",
       "      <td>34B=75B</td>\n",
       "      <td>117</td>\n",
       "      <td>虾粉</td>\n",
       "      <td>粉色</td>\n",
       "    </tr>\n",
       "  </tbody>\n",
       "</table>\n",
       "<p>15497 rows × 6 columns</p>\n",
       "</div>"
      ],
      "text/plain": [
       "              creationTime productColor productSize  Unnamed: 0          0   1\n",
       "0      2016-06-08 17:17:00        22咖啡色         75C           0      22咖啡色  棕色\n",
       "1      2017-04-07 19:34:25        22咖啡色         80B           0      22咖啡色  棕色\n",
       "2      2017-08-03 20:39:18        22咖啡色         80B           0      22咖啡色  棕色\n",
       "3      2016-07-06 14:02:08        22咖啡色         75B           0      22咖啡色  棕色\n",
       "4      2017-03-18 11:49:55        22咖啡色         80B           0      22咖啡色  棕色\n",
       "...                    ...          ...         ...         ...        ...  ..\n",
       "15492  2017-11-03 16:39:13    粉色套装（含内裤）     34A/75A         116  粉色套装（含内裤）  粉色\n",
       "15493  2017-11-07 23:03:10    粉色套装（含内裤）     34B/75B         116  粉色套装（含内裤）  粉色\n",
       "15494  2017-11-14 17:25:37    粉色套装（含内裤）     34A/75A         116  粉色套装（含内裤）  粉色\n",
       "15495  2017-11-11 00:13:32    粉色套装（含内裤）     36C/80C         116  粉色套装（含内裤）  粉色\n",
       "15496  2016-12-20 13:51:34           虾粉     34B=75B         117         虾粉  粉色\n",
       "\n",
       "[15497 rows x 6 columns]"
      ]
     },
     "execution_count": 4,
     "metadata": {},
     "output_type": "execute_result"
    }
   ],
   "source": [
    "bra"
   ]
  },
  {
   "cell_type": "code",
   "execution_count": 5,
   "metadata": {
    "scrolled": true
   },
   "outputs": [],
   "source": [
    "bra = bra.drop(columns=['productColor', 'Unnamed: 0', '0'])\n",
    "bra = bra.dropna()\n",
    "bra = bra.reset_index(drop=True)"
   ]
  },
  {
   "cell_type": "code",
   "execution_count": 6,
   "metadata": {},
   "outputs": [
    {
     "data": {
      "text/html": [
       "<div>\n",
       "<style scoped>\n",
       "    .dataframe tbody tr th:only-of-type {\n",
       "        vertical-align: middle;\n",
       "    }\n",
       "\n",
       "    .dataframe tbody tr th {\n",
       "        vertical-align: top;\n",
       "    }\n",
       "\n",
       "    .dataframe thead th {\n",
       "        text-align: right;\n",
       "    }\n",
       "</style>\n",
       "<table border=\"1\" class=\"dataframe\">\n",
       "  <thead>\n",
       "    <tr style=\"text-align: right;\">\n",
       "      <th></th>\n",
       "      <th>creationTime</th>\n",
       "      <th>productSize</th>\n",
       "      <th>1</th>\n",
       "    </tr>\n",
       "  </thead>\n",
       "  <tbody>\n",
       "    <tr>\n",
       "      <th>0</th>\n",
       "      <td>2016-06-08 17:17:00</td>\n",
       "      <td>75C</td>\n",
       "      <td>棕色</td>\n",
       "    </tr>\n",
       "    <tr>\n",
       "      <th>1</th>\n",
       "      <td>2017-04-07 19:34:25</td>\n",
       "      <td>80B</td>\n",
       "      <td>棕色</td>\n",
       "    </tr>\n",
       "    <tr>\n",
       "      <th>2</th>\n",
       "      <td>2017-08-03 20:39:18</td>\n",
       "      <td>80B</td>\n",
       "      <td>棕色</td>\n",
       "    </tr>\n",
       "    <tr>\n",
       "      <th>3</th>\n",
       "      <td>2016-07-06 14:02:08</td>\n",
       "      <td>75B</td>\n",
       "      <td>棕色</td>\n",
       "    </tr>\n",
       "    <tr>\n",
       "      <th>4</th>\n",
       "      <td>2017-03-18 11:49:55</td>\n",
       "      <td>80B</td>\n",
       "      <td>棕色</td>\n",
       "    </tr>\n",
       "    <tr>\n",
       "      <th>...</th>\n",
       "      <td>...</td>\n",
       "      <td>...</td>\n",
       "      <td>...</td>\n",
       "    </tr>\n",
       "    <tr>\n",
       "      <th>15491</th>\n",
       "      <td>2017-11-03 16:39:13</td>\n",
       "      <td>34A/75A</td>\n",
       "      <td>粉色</td>\n",
       "    </tr>\n",
       "    <tr>\n",
       "      <th>15492</th>\n",
       "      <td>2017-11-07 23:03:10</td>\n",
       "      <td>34B/75B</td>\n",
       "      <td>粉色</td>\n",
       "    </tr>\n",
       "    <tr>\n",
       "      <th>15493</th>\n",
       "      <td>2017-11-14 17:25:37</td>\n",
       "      <td>34A/75A</td>\n",
       "      <td>粉色</td>\n",
       "    </tr>\n",
       "    <tr>\n",
       "      <th>15494</th>\n",
       "      <td>2017-11-11 00:13:32</td>\n",
       "      <td>36C/80C</td>\n",
       "      <td>粉色</td>\n",
       "    </tr>\n",
       "    <tr>\n",
       "      <th>15495</th>\n",
       "      <td>2016-12-20 13:51:34</td>\n",
       "      <td>34B=75B</td>\n",
       "      <td>粉色</td>\n",
       "    </tr>\n",
       "  </tbody>\n",
       "</table>\n",
       "<p>15496 rows × 3 columns</p>\n",
       "</div>"
      ],
      "text/plain": [
       "              creationTime productSize   1\n",
       "0      2016-06-08 17:17:00         75C  棕色\n",
       "1      2017-04-07 19:34:25         80B  棕色\n",
       "2      2017-08-03 20:39:18         80B  棕色\n",
       "3      2016-07-06 14:02:08         75B  棕色\n",
       "4      2017-03-18 11:49:55         80B  棕色\n",
       "...                    ...         ...  ..\n",
       "15491  2017-11-03 16:39:13     34A/75A  粉色\n",
       "15492  2017-11-07 23:03:10     34B/75B  粉色\n",
       "15493  2017-11-14 17:25:37     34A/75A  粉色\n",
       "15494  2017-11-11 00:13:32     36C/80C  粉色\n",
       "15495  2016-12-20 13:51:34     34B=75B  粉色\n",
       "\n",
       "[15496 rows x 3 columns]"
      ]
     },
     "execution_count": 6,
     "metadata": {},
     "output_type": "execute_result"
    }
   ],
   "source": [
    "bra"
   ]
  },
  {
   "cell_type": "code",
   "execution_count": 7,
   "metadata": {
    "scrolled": false
   },
   "outputs": [],
   "source": [
    "bra = bra.rename(columns={'1':'productColor'})"
   ]
  },
  {
   "cell_type": "code",
   "execution_count": 8,
   "metadata": {},
   "outputs": [],
   "source": [
    "'''设置尺码的正则表达式'''\n",
    "import re\n",
    "situation_one = re.compile(r'[7-9]\\d[A-Z]')\n",
    "situation_two = re.compile(r'[A-Z][7-9]\\d')\n",
    "situation_three = re.compile(r'\\d{2}/\\d{2}[A-Z]')"
   ]
  },
  {
   "cell_type": "code",
   "execution_count": 9,
   "metadata": {},
   "outputs": [],
   "source": [
    "'''进行数据的清洗'''\n",
    "for i in range (len(bra)):\n",
    "    try:\n",
    "        re_data_one = situation_one.findall(bra['productSize'][i])\n",
    "        re_data_two = situation_two.findall(bra['productSize'][i])\n",
    "        re_data_three = situation_three.findall(bra['productSize'][i])\n",
    "        if re_data_one:\n",
    "            bra['productSize'][i] = re_data_one[0]\n",
    "        if re_data_two:\n",
    "            bra['productSize'][i] = bra['productSize'][i][1:] + bra['productSize'][i][0]\n",
    "        if re_data_three:\n",
    "            bra['productSize'][i] = max(re.compile(r'\\d{2}').findall(bra['productSize'][i])) + bra['productSize'][i][-1]\n",
    "        else:\n",
    "            continue\n",
    "    except:\n",
    "        continue\n",
    "        "
   ]
  },
  {
   "cell_type": "code",
   "execution_count": 10,
   "metadata": {},
   "outputs": [
    {
     "data": {
      "text/html": [
       "<div>\n",
       "<style scoped>\n",
       "    .dataframe tbody tr th:only-of-type {\n",
       "        vertical-align: middle;\n",
       "    }\n",
       "\n",
       "    .dataframe tbody tr th {\n",
       "        vertical-align: top;\n",
       "    }\n",
       "\n",
       "    .dataframe thead th {\n",
       "        text-align: right;\n",
       "    }\n",
       "</style>\n",
       "<table border=\"1\" class=\"dataframe\">\n",
       "  <thead>\n",
       "    <tr style=\"text-align: right;\">\n",
       "      <th></th>\n",
       "      <th>creationTime</th>\n",
       "      <th>productSize</th>\n",
       "      <th>productColor</th>\n",
       "    </tr>\n",
       "  </thead>\n",
       "  <tbody>\n",
       "    <tr>\n",
       "      <th>0</th>\n",
       "      <td>2016-06-08 17:17:00</td>\n",
       "      <td>75C</td>\n",
       "      <td>棕色</td>\n",
       "    </tr>\n",
       "    <tr>\n",
       "      <th>1</th>\n",
       "      <td>2017-04-07 19:34:25</td>\n",
       "      <td>80B</td>\n",
       "      <td>棕色</td>\n",
       "    </tr>\n",
       "    <tr>\n",
       "      <th>2</th>\n",
       "      <td>2017-08-03 20:39:18</td>\n",
       "      <td>80B</td>\n",
       "      <td>棕色</td>\n",
       "    </tr>\n",
       "    <tr>\n",
       "      <th>3</th>\n",
       "      <td>2016-07-06 14:02:08</td>\n",
       "      <td>75B</td>\n",
       "      <td>棕色</td>\n",
       "    </tr>\n",
       "    <tr>\n",
       "      <th>4</th>\n",
       "      <td>2017-03-18 11:49:55</td>\n",
       "      <td>80B</td>\n",
       "      <td>棕色</td>\n",
       "    </tr>\n",
       "    <tr>\n",
       "      <th>...</th>\n",
       "      <td>...</td>\n",
       "      <td>...</td>\n",
       "      <td>...</td>\n",
       "    </tr>\n",
       "    <tr>\n",
       "      <th>15491</th>\n",
       "      <td>2017-11-03 16:39:13</td>\n",
       "      <td>75A</td>\n",
       "      <td>粉色</td>\n",
       "    </tr>\n",
       "    <tr>\n",
       "      <th>15492</th>\n",
       "      <td>2017-11-07 23:03:10</td>\n",
       "      <td>75B</td>\n",
       "      <td>粉色</td>\n",
       "    </tr>\n",
       "    <tr>\n",
       "      <th>15493</th>\n",
       "      <td>2017-11-14 17:25:37</td>\n",
       "      <td>75A</td>\n",
       "      <td>粉色</td>\n",
       "    </tr>\n",
       "    <tr>\n",
       "      <th>15494</th>\n",
       "      <td>2017-11-11 00:13:32</td>\n",
       "      <td>80C</td>\n",
       "      <td>粉色</td>\n",
       "    </tr>\n",
       "    <tr>\n",
       "      <th>15495</th>\n",
       "      <td>2016-12-20 13:51:34</td>\n",
       "      <td>75B</td>\n",
       "      <td>粉色</td>\n",
       "    </tr>\n",
       "  </tbody>\n",
       "</table>\n",
       "<p>15496 rows × 3 columns</p>\n",
       "</div>"
      ],
      "text/plain": [
       "              creationTime productSize productColor\n",
       "0      2016-06-08 17:17:00         75C           棕色\n",
       "1      2017-04-07 19:34:25         80B           棕色\n",
       "2      2017-08-03 20:39:18         80B           棕色\n",
       "3      2016-07-06 14:02:08         75B           棕色\n",
       "4      2017-03-18 11:49:55         80B           棕色\n",
       "...                    ...         ...          ...\n",
       "15491  2017-11-03 16:39:13         75A           粉色\n",
       "15492  2017-11-07 23:03:10         75B           粉色\n",
       "15493  2017-11-14 17:25:37         75A           粉色\n",
       "15494  2017-11-11 00:13:32         80C           粉色\n",
       "15495  2016-12-20 13:51:34         75B           粉色\n",
       "\n",
       "[15496 rows x 3 columns]"
      ]
     },
     "execution_count": 10,
     "metadata": {},
     "output_type": "execute_result"
    }
   ],
   "source": [
    "bra"
   ]
  },
  {
   "cell_type": "code",
   "execution_count": 11,
   "metadata": {},
   "outputs": [
    {
     "data": {
      "text/plain": [
       "棕色      51\n",
       "绿色      97\n",
       "灰色     126\n",
       "黄色     268\n",
       "粉色    2000\n",
       "黑色    2142\n",
       "肤色    2169\n",
       "紫色    2505\n",
       "红色    2715\n",
       "蓝色    3423\n",
       "Name: productColor, dtype: int64"
      ]
     },
     "execution_count": 11,
     "metadata": {},
     "output_type": "execute_result"
    }
   ],
   "source": [
    "color_info = bra['productColor'].value_counts(ascending=True)\n",
    "color_info"
   ]
  },
  {
   "cell_type": "code",
   "execution_count": 12,
   "metadata": {},
   "outputs": [],
   "source": [
    "# 中文乱码的处理\n",
    "plt.rcParams['font.sans-serif'] =['Microsoft YaHei']\n",
    "plt.rcParams['axes.unicode_minus'] = False\n",
    "\n",
    "'''定义画直方图函数'''\n",
    "def histogram(info,title,name_x,name_y,Color = 'royalblue'):\n",
    "    #添加辅助线\n",
    "    #plt.grid(ls='--',c='aquamarine')\n",
    "    \n",
    "    #提取x,y数据\n",
    "    x = info.keys()\n",
    "    y = info.values\n",
    "    \n",
    "    #开始画图\n",
    "    plt.bar(x, y, align = 'center',color = Color, alpha = 0.8,)\n",
    "    \n",
    "    # 添加轴标签\n",
    "    plt.ylabel(name_y)\n",
    "    plt.xlabel(name_x)\n",
    "    \n",
    "    # 添加标题\n",
    "    plt.title(title)\n",
    "    \n",
    "    #使每一列加入其具体数值\n",
    "    for x,y in enumerate(y):\n",
    "        plt.text(x,y+100,'%s' %y,ha='center')\n",
    "        \n",
    "    plt.show()"
   ]
  },
  {
   "cell_type": "code",
   "execution_count": 13,
   "metadata": {},
   "outputs": [],
   "source": [
    "#设置函数，以使得bra的颜色与所对应的柱状图颜色相同，增强可视化效果\n",
    "def color_to_color(info):\n",
    "        color_code_list=['deepskyblue', 'crimson', 'darkorchid', 'navajowhite', 'k',\n",
    "                  'pink', 'gold', 'grey', 'yellowgreen', 'peru']\n",
    "        color_list=[\"蓝色\", \"红色\", \"紫色\", \"肤色\", \"黑色\", \n",
    "                   \"粉色\", \"黄色\", \"灰色\", \"绿色\", \"棕色\"]\n",
    "        color = info.keys()\n",
    "        res=[]\n",
    "        for i in range(len(color)):\n",
    "            for j in range(len(color_list)):\n",
    "                if color_list[j] in color[i]:    \n",
    "                    res.append(color_code_list[j])\n",
    "        return res"
   ]
  },
  {
   "cell_type": "code",
   "execution_count": 14,
   "metadata": {},
   "outputs": [
    {
     "data": {
      "image/png": "[encoded data removed]",
      "text/plain": [
       "<Figure size 1080x720 with 1 Axes>"
      ]
     },
     "metadata": {
      "needs_background": "light"
     },
     "output_type": "display_data"
    }
   ],
   "source": [
    "figsize = 15,10    #控制图像大小\n",
    "figure, ax = plt.subplots(figsize=figsize)\n",
    "histogram(color_info,title='bra颜色分类统计',name_x='颜色',name_y='数量',Color = color_to_color(color_info))"
   ]
  },
  {
   "cell_type": "code",
   "execution_count": 15,
   "metadata": {},
   "outputs": [
    {
     "data": {
      "text/plain": [
       "38/85ab中厚2cm        1\n",
       "95E                 1\n",
       "34/75c薄款0.8cm       1\n",
       "90E                 3\n",
       "95D                 4\n",
       "90A                 4\n",
       "95C                 4\n",
       "75E                 5\n",
       "80E                 8\n",
       "85E                17\n",
       "80D                18\n",
       "85D                20\n",
       "90B                20\n",
       "90D                21\n",
       "70C                27\n",
       "90C                39\n",
       "34/75ab中厚2cm       64\n",
       "170/82/XL          75\n",
       "85A                99\n",
       "160/70/M          113\n",
       "165/76/L          152\n",
       "70A               171\n",
       "85C               259\n",
       "80A               270\n",
       "75C               356\n",
       "75D               360\n",
       "75A               424\n",
       "70B               459\n",
       "80C               581\n",
       "85B               998\n",
       "80B              3968\n",
       "75B              6954\n",
       "Name: productSize, dtype: int64"
      ]
     },
     "execution_count": 15,
     "metadata": {},
     "output_type": "execute_result"
    }
   ],
   "source": [
    "size_info = bra['productSize'].value_counts(ascending=True)\n",
    "size_info"
   ]
  },
  {
   "cell_type": "code",
   "execution_count": 16,
   "metadata": {},
   "outputs": [
    {
     "data": {
      "image/png": "[encoded data removed]",
      "text/plain": [
       "<Figure size 1800x720 with 1 Axes>"
      ]
     },
     "metadata": {
      "needs_background": "light"
     },
     "output_type": "display_data"
    }
   ],
   "source": [
    "figsize = 25,10\n",
    "figure, ax = plt.subplots(figsize=figsize)\n",
    "histogram(size_info,title='bra尺码分类统计',name_x='尺码类型',name_y='数量')"
   ]
  },
  {
   "cell_type": "code",
   "execution_count": 17,
   "metadata": {},
   "outputs": [
    {
     "data": {
      "text/plain": [
       "0        75C棕色\n",
       "1        80B棕色\n",
       "2        80B棕色\n",
       "3        75B棕色\n",
       "4        80B棕色\n",
       "         ...  \n",
       "15491    75A粉色\n",
       "15492    75B粉色\n",
       "15493    75A粉色\n",
       "15494    80C粉色\n",
       "15495    75B粉色\n",
       "Name: composite, Length: 15496, dtype: object"
      ]
     },
     "execution_count": 17,
     "metadata": {},
     "output_type": "execute_result"
    }
   ],
   "source": [
    "composite_data = bra['productSize'] + bra['productColor']\n",
    "composite_data.rename('composite')"
   ]
  },
  {
   "cell_type": "code",
   "execution_count": 18,
   "metadata": {},
   "outputs": [
    {
     "data": {
      "text/plain": [
       "75B紫色              2130\n",
       "80B蓝色              1532\n",
       "75B粉色              1188\n",
       "80B红色              1137\n",
       "75B蓝色              1133\n",
       "                   ... \n",
       "90D紫色                 1\n",
       "70A灰色                 1\n",
       "85A绿色                 1\n",
       "34/75c薄款0.8cm蓝色       1\n",
       "95C肤色                 1\n",
       "Length: 156, dtype: int64"
      ]
     },
     "execution_count": 18,
     "metadata": {},
     "output_type": "execute_result"
    }
   ],
   "source": [
    "composite_info = composite_data.value_counts(ascending=False)\n",
    "composite_info"
   ]
  },
  {
   "cell_type": "code",
   "execution_count": 19,
   "metadata": {},
   "outputs": [],
   "source": [
    "composite_info = composite_info[:20]"
   ]
  },
  {
   "cell_type": "code",
   "execution_count": 20,
   "metadata": {},
   "outputs": [
    {
     "data": {
      "image/png": "[encoded data removed]",
      "text/plain": [
       "<Figure size 1440x720 with 1 Axes>"
      ]
     },
     "metadata": {
      "needs_background": "light"
     },
     "output_type": "display_data"
    }
   ],
   "source": [
    "figsize = 20,10\n",
    "figure, ax = plt.subplots(figsize=figsize)\n",
    "histogram(composite_info,title='bra尺码颜色组合前二十分类统计',name_x='组合类型',name_y='数量',Color = color_to_color(composite_info))"
   ]
  },
  {
   "cell_type": "code",
   "execution_count": null,
   "metadata": {},
   "outputs": [],
   "source": []
  },
  {
   "cell_type": "code",
   "execution_count": null,
   "metadata": {},
   "outputs": [],
   "source": []
  }
 ],
 "metadata": {
  "kernelspec": {
   "display_name": "Python 3",
   "language": "python",
   "name": "python3"
  },
  "language_info": {
   "codemirror_mode": {
    "name": "ipython",
    "version": 3
   },
   "file_extension": ".py",
   "mimetype": "text/x-python",
   "name": "python",
   "nbconvert_exporter": "python",
   "pygments_lexer": "ipython3",
   "version": "3.8.3"
  }
 },
 "nbformat": 4,
 "nbformat_minor": 4
}
